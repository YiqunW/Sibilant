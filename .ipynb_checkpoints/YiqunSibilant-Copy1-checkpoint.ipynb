{
 "cells": [
  {
   "cell_type": "code",
   "execution_count": 1,
   "metadata": {
    "collapsed": false
   },
   "outputs": [],
   "source": [
    "%matplotlib inline"
   ]
  },
  {
   "cell_type": "code",
   "execution_count": 157,
   "metadata": {
    "collapsed": false
   },
   "outputs": [],
   "source": [
    "import numpy as np\n",
    "from scipy.integrate import cumtrapz\n",
    "from scipy.special import lambertw\n",
    "from scipy.special import gammaln\n",
    "import matplotlib.pylab as plt\n",
    "import os\n",
    "import pymc as pm\n",
    "#run if missing: conda install pymc\n",
    "\n",
    "class AttributeDict(dict):\n",
    "    #extend dictionary object to set atributes as for Matlab objects.\n",
    "    def __getattr__(self, attr):\n",
    "        return self[attr]\n",
    "    def __setattr__(self, attr, value):\n",
    "        self[attr] = value\n",
    "\n",
    "class topologies_and_genes:\n",
    "    def __init__(self):\n",
    "        \"\"\"\n",
    "        Documentation: This is the master class for computing transition, marker genes and topologies\n",
    "        \"\"\"\n",
    "        pass\n",
    "    def set_data(self,tfdata,idxs,labs,iunique):\n",
    "        \"\"\"\n",
    "        inputs:\n",
    "        #tfdata --> log-transformed data. rows = genes. columns = replicates (several per cell type). \n",
    "        #idxs --> which cell types are we interested in out of all of the cell types in tfdata?\n",
    "        #labs --> cell type names\n",
    "        #iunique --> what is the cell type identity of each column of tfdata?\n",
    "        #iunique has same length as the # of columns in tfdata, and the max value\n",
    "        #of iunique is the number of cell types.\n",
    "        \"\"\"\n",
    "        self.tfdata = tfdata\n",
    "        self.idxs = idxs\n",
    "        self.labs = labs\n",
    "        self.iunique = iunique\n",
    "    def start_Sibilant(self):\n",
    "        \"\"\"\n",
    "        #compute integrals and calculate topologies\n",
    "        #inputs grabed from self (after running self.set_data)\n",
    "        #tfdata --> log-transformed data. rows = genes. columns = replicates (several per cell type). \n",
    "        #idxs --> which cell types are we interested in out of all of the cell types in tfdata?\n",
    "        #labs --> cell type names\n",
    "        #iunique --> what is the cell type identity of each column of tfdata?\n",
    "        #iunique has same length as the # of columns in tfdata, and the max value\n",
    "        #of iunique is the number of cell types.\n",
    "        \"\"\"\n",
    "        \n",
    "        print('Sibilant started.')\n",
    "        #get data from self\n",
    "        tfdata = self.tfdata\n",
    "        idxs = self.idxs\n",
    "        labs = self.labs\n",
    "        iunique = self.iunique\n",
    "        \n",
    "        if not hasattr(self,'Params'):\n",
    "            Params = self.get_parameters()\n",
    "            self.Params = Params\n",
    "        else:\n",
    "            Params = self.Params\n",
    "\n",
    "        loggenemeans, loggenestds = self.calc_log_mean_std(tfdata, iunique,Params.dist)\n",
    "        # internalize\n",
    "        self.loggenemeans,self.loggenestds = loggenemeans, loggenestds\n",
    "\n",
    "        #the function calc_log_mean_std has been modified to be able to calculate\n",
    "        #sigma and mu in ZIP distribution. However, these values will be used only\n",
    "        #if kde is on or filter gene by expression is on. \n",
    "        #######verified up to here\n",
    "        print('Beginning integration.')\n",
    "        Integrals, best_mu, best_sigma,combinations = self.calculate_integrals(tfdata, idxs, iunique, Params)\n",
    "        #internalize\n",
    "        self.Integrals,self.best_mu,self.best_sigma,self.combinations = Integrals, best_mu, best_sigma,combinations\n",
    "\n",
    "        #combiantions contains all possible combinations of 3\n",
    "\n",
    "        ncells = len(idxs)\n",
    "        ngenes = tfdata.shape[0]\n",
    "\n",
    "        #ncandid = # of likely topologies\n",
    "        #tlikely = most likely root of the triplet\n",
    "        #plikely = probability of T being the root\n",
    "\n",
    "        # Initialize holders\n",
    "        ncombinations = len(combinations)\n",
    "        ncandid = np.zeros(ncombinations,dtype=int);\n",
    "        tlikely = np.zeros(ncombinations,dtype=int);\n",
    "        plikely = np.zeros(ncombinations);\n",
    "        pT_g_sum = np.zeros([ncombinations,5]);\n",
    "\n",
    "        makeplot = Params.get('makeplot',False)#make plots? specify in Params and default to false\n",
    "        plot_dir = Params.get('plot_dir',None) #save plots somewhere if in Paramas, default to not save\n",
    "        #find most likely topologies for each triplet\n",
    "\n",
    "        # Add some progress reporting\n",
    "        print('Starting trajectories.')   \n",
    "        for j in range(ncombinations):\n",
    "            icomb = j\n",
    "            iii = combinations[icomb,:]\n",
    "            trip_data = loggenemeans[:,idxs[iii]]\n",
    "            tlikely_ind, plikely_ind, ncandidates, pT_g_sum_j = self.process_one_triplet(icomb, Integrals, Params, trip_data, makeplot=makeplot, plot_dir=plot_dir, labs=labs[iii]);\n",
    "            tlikely[j] = tlikely_ind\n",
    "            plikely[j] = plikely_ind\n",
    "            ncandid[j] = ncandidates\n",
    "            pT_g_sum[j,:] = pT_g_sum_j\n",
    "        #internalize\n",
    "        self.ncandid,self.tlikely,self.plikely,self.pT_g_sum = ncandid,tlikely,plikely,pT_g_sum\n",
    "\n",
    "        print('Starting gene selection.')\n",
    "        #find union of marker and transition genes over all triplets\n",
    "        good_genes = np.zeros(ngenes)\n",
    "        transition_probs = np.zeros([ngenes, ncombinations])\n",
    "        marker_probs = np.zeros([ngenes, 3, ncombinations])\n",
    "        for i in range(ncombinations):\n",
    "            if plikely[i]>Params.plikely_thresh and ncandid[i]>=1:\n",
    "                icomb = i\n",
    "                iii = combinations[icomb,:]\n",
    "                trip_data = loggenemeans[:,idxs[iii]]\n",
    "                prob_asym_topol, prob_marker_topol = self.calculate_gene_probabilities(icomb,Integrals, Params,trip_data,tlikely[icomb]);\n",
    "                transition_probs[:,i] = prob_asym_topol\n",
    "                marker_probs[:,:,i] = prob_marker_topol\n",
    "                genestatus = self.find_classes(prob_asym_topol, prob_marker_topol, tlikely[icomb], trip_data, Params)\n",
    "                good_genes = (good_genes + abs(genestatus))>0\n",
    "        self.good_genes,self.transition_probs,self.marker_probs = good_genes,transition_probs,marker_probs\n",
    "    def find_classes(self,pasym_gi_T, pmar_gi_T, tlik, data, Params):\n",
    "        \"\"\"\n",
    "        Documentation...\n",
    "        \"\"\"\n",
    "        N_thresh_asym = Params.N_thresh_asym; \n",
    "        N_thresh_sym = Params.N_thresh_sym; \n",
    "        p_thresh_asym = Params.p_thresh_asym;\n",
    "        p_thresh_sym = Params.p_thresh_sym;\n",
    "        ngenes = pasym_gi_T.shape[0]\n",
    "        status = np.zeros(ngenes)\n",
    "        # asym\n",
    "        asymgenes = np.where(pasym_gi_T > p_thresh_asym)[0] #find genes with prob(beta_i | g_i, T) > p_thresh_asym\n",
    "        asym_order = np.argsort(pasym_gi_T[asymgenes])[::-1]\n",
    "        asymgenes = asymgenes[asym_order[:min(N_thresh_asym,len(asymgenes))]]#keep top N_thresh_asym of these genes\n",
    "        ind_notlik = np.setdiff1d(range(3),tlik)\n",
    "        self.asymgenes,self.data,self.ind_notlik = asymgenes,data,ind_notlik\n",
    "        group = np.argmax(data[asymgenes,:][:,ind_notlik],axis=1)\n",
    "        status[asymgenes[group==0]] = 1 #mark status in output vector: +/- 1\n",
    "        status[asymgenes[group==1]] = -1 #mark status in output vector: +/- 1\n",
    "\n",
    "        #markers for root cell type\n",
    "        psym_gi_T = pmar_gi_T[:,tlik]\n",
    "        symgenes = np.where(psym_gi_T > p_thresh_sym)[0] #find genes with prob(alpha_i = 1| g_i, T) > p_thresh_sym\n",
    "        sym_order = np.argsort(psym_gi_T[symgenes])[::-1]\n",
    "        symgenes = symgenes[sym_order[:min(N_thresh_sym,len(symgenes))]]#keep top N_thresh_sym of these genes\n",
    "        status[symgenes] = 2; #mark status in output vector: +2\n",
    "\n",
    "        # markers for leaf cell types\n",
    "        daught = np.setdiff1d(range(3),tlik)\n",
    "        daught1 = daught[0] # code: +3\n",
    "        daught2 = daught[1] # code: -3\n",
    "        markergenes1 = np.where(pmar_gi_T[:,daught1] > p_thresh_sym)[0] #find genes with prob(alpha_i = 1| g_i, T) > p_thresh_sym\n",
    "        markergenes2 = np.where(pmar_gi_T[:,daught2] > p_thresh_sym)[0] #find genes with prob(alpha_i = 1| g_i, T) > p_thresh_sym\n",
    "        mar1_order = np.argsort(pmar_gi_T[markergenes1, daught1])[::-1]\n",
    "        mar2_order = np.argsort(pmar_gi_T[markergenes2, daught2])[::-1]\n",
    "        markergenes1 = markergenes1[mar1_order[:min(N_thresh_sym,len(markergenes1))]]#keep top N_thresh_sym of these genes\n",
    "        markergenes2 = markergenes2[mar2_order[:min(N_thresh_sym,len(markergenes2))]]#keep top N_thresh_sym of these genes\n",
    "        status[markergenes1] = 3;\n",
    "        status[markergenes2] = -3;\n",
    "\n",
    "        return status\n",
    "    def calculate_gene_probabilities(self,icomb,Integrals, Params,trip_data,tlik):\n",
    "        \"\"\"\n",
    "        Documentation:\n",
    "        #See Equations (27) and (28)\n",
    "        \"\"\"\n",
    "        odds0 = Params.odds0\n",
    "        psla = Params.psla\n",
    "        pgi_mas_T, pgi_sla, pgi_sym = self.calc_pgi_topo(icomb,Integrals, Params, trip_data,tag = 'calculate_gene_probabilities') #get probability of data given different hypotheses\n",
    "        # transition genes\n",
    "        odds_asym_topol = odds0*pgi_mas_T[:,tlik]/pgi_sla; # p(beta_i = 1 | g_i, T)/p(beta_i = 0 | g_i, T)\n",
    "        inf_ind = np.isinf(odds_asym_topol) #if pgi_sla==0, odds_asym_topol should be corrected to 1 instead of 0\n",
    "        prob_asym_topol = odds_asym_topol/(1.+odds_asym_topol); # p(beta_i = 1 | g_i, T)\n",
    "        prob_asym_topol[inf_ind] = 1 #correct for the case where p(g_i | beta_i=0)=0\n",
    "        prob_asym_topol[np.isnan(prob_asym_topol)] = 0  #get rid of NaNs  \n",
    "\n",
    "        p_mas = odds0/(1.+odds0) # prior p(beta_i=1)\n",
    "        p_sla = 1./(1.+odds0) # prior p(beta_i=0)\n",
    "        pg_T = p_mas*pgi_mas_T[:,tlik] + p_sla*pgi_sla; # p(g_i | T)\n",
    "\n",
    "        #markers\n",
    "        #pg_T as above\n",
    "        prob_marker_topol = np.zeros(pgi_sym.shape)\n",
    "        for t in range(3):#1:3\n",
    "            psym = pgi_sym[:,t] # p(g_i | T, gene i marker for cell type t) i.e. p(g_i | T, beta_i = 0, alpha_i = 1)\n",
    "            pnotsym = pg_T-p_sla*psla[t+1]*psym; # p(g_i | T, gene i NOT marker for cell type t). psla(tlik+1) is p(mu_A > mu_BC | b_i = 0) (or equiv) \n",
    "            prior_sym_odds = (p_sla*psla[t+1])/(1-p_sla*psla[t+1]); # p(alpha_i = 1 for cell type t)/p(alpha_i = 0 for cell type t);\n",
    "            odds_marker_topol = prior_sym_odds*psym/pnotsym; # p(alpha_i = 1 | g_i, T)/p(alpha_i = 0 | g_i, T)\n",
    "            prob_marker_topol[:,t] = odds_marker_topol/(odds_marker_topol+1.); # p(alpha_i = 1 for cell type t | g_i, T)\n",
    "            #deal with nonsense\n",
    "            prob_marker_topol[odds_marker_topol == np.inf,t] = 1 ## This can never reach inf. changing because think it's providing spurious markers\n",
    "            prob_marker_topol[np.isnan(prob_marker_topol[:,t]),t] = 0 ## changing because think it's providing spurious markers\n",
    "        return prob_asym_topol, prob_marker_topol\n",
    "    def process_one_triplet(self,icomb, Integrals, Params, tripdata, makeplot=False, plot_dir=None, labs=['x','y','z']):\n",
    "        \"\"\"\n",
    "        Documentation:\n",
    "        Calls: calc_pgi_topo with tag process_one_triplet\n",
    "        \"\"\"\n",
    "        allodds = Params.oddsrange\n",
    "        topology_prior = Params.topology_prior\n",
    "        plikely_thresh = Params.plikely_thresh\n",
    "        #find p(g_i|T,b_i) for each gene starting from integrals\n",
    "        pgi_mas_T, pgi_sla, _ = self.calc_pgi_topo(icomb,Integrals, Params, tripdata,tag='process_one_triplet')\n",
    "\n",
    "        pT_g = np.zeros([len(allodds),4]) #pT_g as a function of prior odds\n",
    "        odds_mas_sla_T = pgi_mas_T/np.expand_dims(pgi_sla,-1) # See Equation (18)\n",
    "        #deal with nonsense\n",
    "        odds_mas_sla_T[np.isnan(odds_mas_sla_T)] = 1 #set nans to 1\n",
    "        odds_mas_sla_T[odds_mas_sla_T==np.inf] = 1 #set infs to 1\n",
    "        for i in range(len(allodds)):\n",
    "            prior_odds = allodds[i] #p(beta_i = 1)/p(beta_i = 0) Equation (21)\n",
    "            odds = 1+ prior_odds*odds_mas_sla_T\n",
    "            sum_log_odds = np.sum(np.log(odds),axis=0)\n",
    "            prododds = np.exp(sum_log_odds - np.max(sum_log_odds)) #divide by max(prod(odds)) to avoid Inf\n",
    "            pT_g[i,:] = prododds*topology_prior/np.sum(topology_prior*prododds); # this is Equation (20)\n",
    "        \n",
    "        self.odds_mas_sla_T = odds_mas_sla_T\n",
    "        self.pT_g = pT_g\n",
    "        \n",
    "        greaterthan0 = pT_g[:,:3] > plikely_thresh\n",
    "        ncandidates = np.sum(np.sum(greaterthan0,axis=0)>0); #how many topologies have probability greater than plikely_thresh\n",
    "        #ncandicates is a number in [0,1,2,3]\n",
    "\n",
    "        #find likely topology\n",
    "        tlikely_ind, plikely_ind, report_ind = self.find_Tlikely(pT_g, icomb)\n",
    "        self.report_ind = report_ind\n",
    "        self.tlikely_ind = tlikely_ind\n",
    "        # Report the best odds for a triplet\n",
    "        pT_g_max = np.concatenate([[allodds[report_ind]],pT_g[report_ind,:]])\n",
    "\n",
    "        if makeplot:\n",
    "            ###Not tested \n",
    "            #make a dot plot\n",
    "\n",
    "            pgi_mas_Tmin = np.column_stack([3*Integrals.IABC_Amin[:,icomb],3*Integrals.IABC_Bmin[:,icomb],3*Integrals.IABC_Cmin[:,icomb]])#find p(g_i | b_i=1, cell T is min)\n",
    "            imax = np.argmax(pgi_mas_Tmin,axis = -1); #find cell type that gene i votes against\n",
    "            f=plt.figure(figsize=(15,15))\n",
    "            plt.semilogx(odds_mas_sla_T,4-imax,'o')\n",
    "            #plot boundaries\n",
    "            plt.xlim([1e-10,10*np.max(allodds)])\n",
    "            plt.ylim([0,4])\n",
    "            #weird labels\n",
    "            plt.yticks(range(1,4), [labs[i_lab] for i_lab in [2,1,0]])\n",
    "            if plot_dir is not None:\n",
    "                f.savefig(plot_dir+os.sep+'topvotes-'+str(icomb)+'.png')\n",
    "                plt.close(f)\n",
    "            else:\n",
    "                plt.show()\n",
    "\n",
    "            #plot p(T|{g}) as a function of p(b_i=1)/p(b_i=0)\n",
    "            f = plt.figure(figsize=(15,15));\n",
    "            plt.semilogx(allodds, pT_g, '-'); \n",
    "            #legend(labs{1},labs{2},labs{3},'null', 'Location', 'northwest'); \n",
    "            plt.xlim([np.min(allodds),np.max(allodds)])\n",
    "            plt.ylim([-0.05,1.05])\n",
    "            if plot_dir is not None:\n",
    "                f.savefig(plot_dir+os.sep+'pT_g-'+str(icomb)+'.png')\n",
    "                plt.close(f)\n",
    "            else:\n",
    "                plt.show()\n",
    "        return tlikely_ind, plikely_ind, ncandidates, pT_g_max\n",
    "    def find_Tlikely(self,pT_g, triplet):\n",
    "        \"\"\"\n",
    "        Finds the most likely topology of triplet given pT_g(odds_prior,Topology)\n",
    "        tlikely_ind - most likely Topology 4-null \n",
    "        plikely_ind - maximum probability for that topology\n",
    "        report_ind - index of mostlikely odd\n",
    "        \"\"\"\n",
    "        m = np.max(pT_g,axis=-1)\n",
    "        itmax = np.argmax(pT_g,axis=-1) #find most likely topology for each of the odds\n",
    "\n",
    "        #this is not a fair treatment of topologies\n",
    "        ## if any of the non-nul topologies have a maximum for some odd then exclude nulltopology\n",
    "        itmaxnot4 = itmax!=3#bool not null topology across odds\n",
    "        if np.sum(itmaxnot4)!=0:\n",
    "             m[itmaxnot4==False]=-np.inf # set all null topology values to - infinity\n",
    "\n",
    "        report_ind = np.argmax(m)\n",
    "        tlikely_ind  = itmax[report_ind] #ensures the convention null topology is 4\n",
    "        #tlikely_ind  = (itmax[report_ind]+1)%4 #ensures the convention null topology is 0\n",
    "        plikely_ind = np.max(m)\n",
    "\n",
    "        return tlikely_ind, plikely_ind, report_ind\n",
    "    def calc_pgi_topo(self,icomb,Integrals, Params, data,tag=''):\n",
    "        \"\"\"\n",
    "        Documentation...\n",
    "        This appears in 2 files: , identical forms but the filter_min condition is different.\n",
    "        process_one_triplet.m,calculate_gene_probabilities.m\n",
    "        Currently the process_one_triplet.m is implemented\n",
    "        \"\"\"\n",
    "        log_asym_min = Params.log_asym_min\n",
    "        log_sym_min = Params.log_sym_min\n",
    "        filter_min = Params.filter_min\n",
    "        psla = Params.psla\n",
    "\n",
    "        pgi_sla_1 = Integrals.IABCsame[:,icomb] #p(gi | alpha_i = 0, beta_i = 0) (Equation 9)\n",
    "        pgi_sla_2Amax = 2*Integrals.IA_BC_Amax[:,icomb] \n",
    "        pgi_sla_2Amax[pgi_sla_2Amax<0.] = 0. #(this is unlikely: should all be > 0 but I did find one floating point error)\n",
    "        pgi_sla_2Bmax = 2*Integrals.IA_BC_Bmax[:,icomb]\n",
    "        pgi_sla_2Bmax[pgi_sla_2Bmax<0.] = 0.\n",
    "        pgi_sla_2Cmax = 2*Integrals.IA_BC_Cmax[:,icomb]\n",
    "        pgi_sla_2Cmax[pgi_sla_2Cmax<0.] = 0. #p(gi | alpha_i = 1, beta_i = 0) Equation (8)\n",
    "        \n",
    "        #internalize for troubleshooting:\n",
    "        self.pgi_sla_1 = pgi_sla_1\n",
    "        \n",
    "        pgi_sym = np.column_stack([pgi_sla_2Amax,pgi_sla_2Bmax,pgi_sla_2Cmax])\n",
    "        self.pgi_sym=pgi_sym\n",
    "\n",
    "        pgi_mas_Tmin = 3.*np.column_stack([Integrals.IABC_Amin[:,icomb],Integrals.IABC_Bmin[:,icomb],Integrals.IABC_Cmin[:,icomb]]) #p(gi | beta_i = 1, cell type T is a leaf)\n",
    "        pgi_mas_T = (1./2.)*np.column_stack([pgi_mas_Tmin[:,1]+pgi_mas_Tmin[:,2],\n",
    "                                             pgi_mas_Tmin[:,0]+pgi_mas_Tmin[:,2],\n",
    "                                             pgi_mas_Tmin[:,1]+pgi_mas_Tmin[:,0]]); #p(gi | beta_i = 1, topology T) Equation (4)\n",
    "        pgi_sla = psla[0]*pgi_sla_1 + psla[1]*pgi_sla_2Amax + psla[2]*pgi_sla_2Bmax + psla[3]*pgi_sla_2Cmax; # p(g_i | beta_i = 0) See Equation (14)\n",
    "        self.pgi_sla=pgi_sla\n",
    "\n",
    "        if filter_min: #some additional coarse filtering if option chosen\n",
    "            expressed = data>log_asym_min\n",
    "            sym_expressed = data>log_sym_min\n",
    "            pgi_mas_T = pgi_mas_T*expressed*((np.expand_dims(np.sum(expressed,axis=1)>1,-1))*np.ones([1,3])) #transition genes above expression threshold in at least 2 cell types\n",
    "            pgi_sym = pgi_sym*sym_expressed #marker genes above expression threshold \"marked\" cell type\n",
    "            if tag=='calculate_gene_probabilities':\n",
    "                imax = np.argmax(data,axis=-1)\n",
    "                for t in range(3):\n",
    "                    pgi_sym[:,t] = pgi_sym[:,t]*(imax==t); #marker gene most highly expressed in \"marked\" cell type\n",
    "            \n",
    "        pgi_mas_0 = (1./3.)*np.sum(pgi_mas_T,axis=1) #p(g_i | b_i = 1, T = null) Equation (6), Equation (7)\n",
    "        pgi_mas_T = np.column_stack([pgi_mas_T,pgi_mas_0]) #p(g_i | b_i = 1, T)\n",
    "        self.pgi_mas_T = pgi_mas_T\n",
    "        self.Integrals = Integrals\n",
    "        return pgi_mas_T, pgi_sla, pgi_sym\n",
    "    def calculate_integrals_one_gene(self,g_dist, i, ncells, combinations, log2tfdata, \n",
    "                                 iunique, idxs, P, M, S, logS, lM, lS, firstcut, dm, ds,normed=True):\n",
    "        ncombinations = len(combinations)\n",
    "        tempIA = np.zeros([1,ncells])\n",
    "        tempIAB = np.zeros([ncells,ncells,1])\n",
    "        tempIABCsame = np.zeros([1, ncombinations])\n",
    "        tempIA_BC_Amax = np.zeros([1, ncombinations])\n",
    "        tempIA_BC_Bmax = np.zeros([1, ncombinations])\n",
    "        tempIA_BC_Cmax = np.zeros([1, ncombinations])\n",
    "        tempIABC_Amin = np.zeros([1, ncombinations])\n",
    "        tempIABC_Bmin = np.zeros([1, ncombinations])\n",
    "        tempIABC_Cmin = np.zeros([1, ncombinations])\n",
    "        Isigma = np.zeros(ncells,dtype=object); #pre-allocate vector for integration over sigma for one cell type\n",
    "        Isigma2 = np.zeros([ncells,ncells],dtype=object); #pre-allocate matrix for integration over sigma for two cell types\n",
    "        diags = np.zeros([ncells,ncells],dtype=object); #pre-allocate cell for integration over mu for two cell types\n",
    "        data = log2tfdata[i,:]; #vector of gene(i) expression levels in all cells\n",
    "\n",
    "        best_mu_gene = np.zeros(ncells); #pre-allocate vector for the parameters that give the highest likely hood for each gene in each cell type\n",
    "        best_sigma_gene = np.zeros(ncells);\n",
    "        for j in range(ncells): #for each cell cluster j\n",
    "            #N1 = sum(iunique==idxs(j));#integrals over one cell type (to use in integrals for Equation 9)\n",
    "            xk1 = data[iunique==idxs[j]] #gene(i) expression levels in all cells in cluster j\n",
    "\n",
    "            F1 = self.logDa(g_dist,M,S,xk1,logS); #returns a sbin by mbin matrix of logDa(gi|mu,sigma) for gene(i) in cluster j. See equation (11) (or the equivalent for ZIP).\n",
    "            # Save most likely distribution for each gene, per cluster.\n",
    "            i1,i2 = np.unravel_index(np.argmax(F1),F1.shape)\n",
    "            best_mu_gene[j],best_sigma_gene[j]= M[0,i2],S[i1,0]\n",
    "            #if normed: F1-=np.max(F1) ##normalize\n",
    "            F1 = np.exp(F1)\n",
    "            F1 = P*F1  # multiply by prior, but flat.\n",
    "            F1[np.isnan(F1)] = 0 # correct for NaN?\n",
    "\n",
    "            self.F1=F1#internalize for troubleshooting\n",
    "\n",
    "            tempIA[0,j] = dm*ds*np.trapz(np.trapz(F1,axis=0),axis=0); #integrate Da over all prior mu and sigma for gene(i) in cluster j. Can be used in Eq.7 for T=0.\n",
    "            #if normed: F1 = F1/tempIA[0,j]\n",
    "            \n",
    "            Isigma[j] = ds*np.trapz(F1,axis=0);#store integrals over sigma for use later. Isigma{j} is a vector of length mbins.\n",
    "            for k in range(j+1,ncells):#integrals over 2 cell types (to use in integrals for Equation 9)\n",
    "                #N2 = sum(iunique==idxs(k)); N12 = N1+N2;\n",
    "                xk2 = data[iunique==idxs[k]]#(ismember(iunique,idxs(k)));\n",
    "                xk12 = np.concatenate([xk1,xk2])\n",
    "                F2 = self.logDa(g_dist,M,S,xk12,logS)\n",
    "                #if normed: F2-=np.max(F2) ##normalize\n",
    "                F2 = np.exp(F2)\n",
    "                F2 = P*F2  # multiply by prior, but flat.\n",
    "                F2[np.isnan(F2)] = 0 # correct for NaN?\n",
    "                tempIAB[j,k,0] = dm*ds*np.trapz(np.trapz(F2,axis=0),axis=0); #integrate Da over the hyperprior space for gene(i) in cluster j+k.\n",
    "                tempIAB[k,j,0] = tempIAB[j,k,0]; #tempIAB is a symmetric 3by3 matrix.\n",
    "                #if normed: F2 = F2/tempIAB[j,k,0]\n",
    "                Isigma2[j,k] = ds*np.trapz(F2,axis=0); #Isigma2 is a symmetric 3by3 cell.\n",
    "                Isigma2[k,j] = Isigma2[j,k];\n",
    "        for j in range(ncells):\n",
    "            for k in range(j+1,ncells):\n",
    "                Isigmaj,Isigmak = np.meshgrid(Isigma[j],Isigma[k])\n",
    "                AB = Isigmaj*Isigmak\n",
    "                #AB = repmat(reshape(Isigma{j},[lM 1]),[1 lM]).*repmat(reshape(Isigma{k},[1 lM]),[lM 1]);\n",
    "                AB_diag = np.diag(cumtrapz(cumtrapz(AB[::-1,::-1],axis=0),axis=1))[::-1]#AB_diag is a vector of length mbins.\n",
    "                #Each element is the integral of [Integral(Dj over sigma)*Integral(Dk over sigma)]\n",
    "                #over mu values greater than a certain mu (in the prior space).\n",
    "                diagjk = np.array(AB_diag[:])#delete the first element of integration of Dj and Dk over the complete hyperprior space.\n",
    "                                             #done internally by cumtrapz in python\n",
    "                prev_firstcut = 0 if firstcut==0 else firstcut-1\n",
    "                diagjk[:prev_firstcut] = diagjk[firstcut] #replace integrations over mu>mu_replace for mu_replace<mu_cutoff with the integrations over mu>mu_cutoff\n",
    "                diags[j,k] = diagjk #diags is a 3by3 symmetric cell with each element being a (mbins-1)by1 vector\n",
    "                diags[k,j] = diags[j,k]\n",
    "\n",
    "        for j in range(ncombinations):\n",
    "            ind123 = np.sum([iunique==idx_ for idx_ in idxs[combinations[j,:]]],axis=0)>0\n",
    "            xk123 = data[ind123] #computation of integrals over 3 cell types assuming they are from a single distribution\n",
    "            #N123 = length(xk123);\n",
    "            F3 = self.logDa(g_dist, M,S,xk123,logS)\n",
    "            #if normed: F3-=np.max(F3) ##normalize\n",
    "            F3 = np.exp(F3)\n",
    "            F3 = P*F3  # multiply by prior, but flat.\n",
    "            #if normed: F3 = F3/np.sum(F3) ##normalize\n",
    "            F3[np.isnan(F3)] = 0 # correct for NaN?\n",
    "            tempIABCsame[0,j] = dm*ds*np.trapz(np.trapz(F3,axis=0),axis=0); # Equation (10). Integration of Da over the entire hyperprior space\n",
    "            \n",
    "            #troubleshoot\n",
    "            self.Isigma=Isigma\n",
    "            self.diags = diags\n",
    "            self.Isigma_t = Isigma[combinations[j,0]][:-1]\n",
    "            self.diags_t = diags[combinations[j,1],combinations[j,2]]\n",
    "            self.combinations = combinations\n",
    "            self.j = j\n",
    "            \n",
    "            \n",
    "            tempIABC_Amin[0,j] = dm*dm*dm*np.trapz(Isigma[combinations[j,0]][:-1]*diags[combinations[j,1],combinations[j,2]]); # Equation (6)\n",
    "            tempIABC_Bmin[0,j] = dm*dm*dm*np.trapz(Isigma[combinations[j,1]][:-1]*diags[combinations[j,0],combinations[j,2]])# if cutoff=0, this is exactly Equation(6)\n",
    "            tempIABC_Cmin[0,j] = dm*dm*dm*np.trapz(Isigma[combinations[j,2]][:-1]*diags[combinations[j,0],combinations[j,1]])\n",
    "\n",
    "            IMesh1,IMesh2 = np.meshgrid(Isigma2[combinations[j,1],combinations[j,2]],Isigma[combinations[j,0]])\n",
    "            A_BC = IMesh1*IMesh2\n",
    "            IMesh1,IMesh2 = np.meshgrid(Isigma2[combinations[j,0],combinations[j,2]],Isigma[combinations[j,1]])\n",
    "            B_AC = IMesh1*IMesh2\n",
    "            IMesh1,IMesh2 = np.meshgrid(Isigma2[combinations[j,0],combinations[j,1]],Isigma[combinations[j,2]])\n",
    "            C_AB = IMesh1*IMesh2\n",
    "            A_BC = np.tril(A_BC,0);\n",
    "            B_AC = np.tril(B_AC,0);\n",
    "            C_AB = np.tril(C_AB,0);\n",
    "            tempIA_BC_Amax[0,j] = dm*dm*np.trapz(np.trapz(A_BC,axis=0),axis=0); # Equation (9) but why tril(X,1) instead of tril(X,0)??\n",
    "            tempIA_BC_Bmax[0,j] = dm*dm*np.trapz(np.trapz(B_AC,axis=0),axis=0);\n",
    "            tempIA_BC_Cmax[0,j] = dm*dm*np.trapz(np.trapz(C_AB,axis=0),axis=0);\n",
    "        return [tempIA, tempIAB, tempIABCsame, tempIABC_Amin, tempIABC_Bmin, tempIABC_Cmin, tempIA_BC_Amax, tempIA_BC_Bmax, tempIA_BC_Cmax, best_mu_gene, best_sigma_gene]\n",
    "    def calc_log_mean_std(self,data,iunique, g_dist):\n",
    "        \"\"\"Given:\n",
    "        # data # an expression array m x n\n",
    "        # iunique # a vector of cell identies of length n\n",
    "        # g_dist # a string id for the distribution N - (log)normal distribution, P - ZeroInflatedPoisson (ZIP)\n",
    "        Returns: \n",
    "        means and stds IF g_dist = N\n",
    "        max_likelihood of means of ZIP and zero probs IF g_dist = P \"\"\"\n",
    "        #cast as numpy arrays for easy computations\n",
    "        data = np.array(data)\n",
    "        iunique = np.array(iunique)\n",
    "\n",
    "        cell_types = np.unique(iunique)\n",
    "        sx,sy = data.shape\n",
    "        loggenemeans = np.zeros([sx, len(cell_types)])\n",
    "        loggenestds = np.zeros([sx, len(cell_types)])\n",
    "\n",
    "        # iterate through cell types\n",
    "        for i,cell_type in enumerate(cell_types):\n",
    "            datai= data[:,iunique==cell_type]#data of cell type\n",
    "            splmean = np.mean(datai,axis=-1)\n",
    "            splstd = np.std(datai,axis=-1)\n",
    "            if g_dist == 'N':\n",
    "                loggenemeans[:,i] = splmean\n",
    "                loggenestds[:,i] = splstd\n",
    "            elif g_dist == 'P':\n",
    "                #maximum likelihood \n",
    "                # for lambda we want to solve: xbar (1-exp(-lambda)) = lambda (1-n0/n)\n",
    "                # https://en.wikipedia.org/wiki/Zero-inflated_model\n",
    "                # the analytical solution to 1-exp(-x)= b x is: (1+b*lambertw(-np.exp(-1./b)/b))/b\n",
    "                n0 =np.sum(datai==0,axis=-1)\n",
    "                n = float(datai.shape[-1])\n",
    "                b = (1.-n0/float(n))/splmean\n",
    "                max_likelihood_lambda = ((1.+b*lambertw(-np.exp(-1./b)/b))/b).real\n",
    "                max_likelihood_pi = 1.-splmean/max_likelihood_lambda\n",
    "                non_sense_1 = np.isnan(max_likelihood_lambda)&(max_likelihood_pi>1)\n",
    "                non_sense_2 = max_likelihood_pi<0\n",
    "                #deal with nonsense\n",
    "                max_likelihood_lambda[non_sense_1]=splmean[non_sense_1]\n",
    "                max_likelihood_pi[non_sense_1]=1.\n",
    "                max_likelihood_lambda[non_sense_2]=splmean[non_sense_2]\n",
    "                max_likelihood_pi[non_sense_2]=0.\n",
    "                loggenemeans[:,i] = max_likelihood_lambda\n",
    "                loggenestds[:,i] = max_likelihood_pi\n",
    "        return loggenemeans, loggenestds  \n",
    "    def simulate_ZIP(self,mu_true=12,psi_true=0.5,nx=7,ny=2,dist='P'):\n",
    "        \"\"\"Simulates zero inflated poisson\n",
    "        with mean mu_true, and sigma = 1-psi_true (prob for 0) nx - number of sets, ny is number of observations/set\n",
    "        \"\"\"\n",
    "        # True parameter values\n",
    "        #mu_true,psi_true,nx,ny = 12,0.5,7,2\n",
    "        # Simulate some data\n",
    "        if dist=='P':\n",
    "            datai = np.array([[pm.rpoisson(mu_true)*(np.random.random()<psi_true) for i in range(ny)] for i_ in range(nx)])\n",
    "        elif dist == 'N':\n",
    "            datai = np.array([[pm.rnormal(mu_true, psi_true) for i in range(ny)]for i_ in range(nx)])  \n",
    "        return datai\n",
    "    def test_likelihood(self):\n",
    "        \"\"\"\n",
    "        Test logDa function using simulate_ZIP function \n",
    "        \"\"\"\n",
    "        datai = self.simulate_ZIP(mu_true=35, psi_true=0.5, nx=1, ny=30)\n",
    "        xk1 = datai[0]\n",
    "        m = np.linspace(30,40,100)\n",
    "        s = np.linspace(0.1,0.9,98)\n",
    "        #s = np.linspace(3,800,100)\n",
    "        M,S = np.meshgrid(m,s)\n",
    "        log_vals = self.logDa('P',M,S,xk1,logS=None)\n",
    "        i1,i2 = np.unravel_index(np.argmax(log_vals),log_vals.shape)\n",
    "        \n",
    "        import matplotlib.cm as cm\n",
    "        import matplotlib.pylab as plt\n",
    "        plt.figure()\n",
    "        plt.title('Max likelihood vals:'+str([m[i2],s[i1]]))\n",
    "        plt.imshow(np.exp(log_vals),interpolation='nearest')\n",
    "        plt.show()\n",
    "        plt.figure()\n",
    "        plt.hist(xk1)\n",
    "        plt.show()\n",
    "    def get_parameters(self):\n",
    "        \"\"\"\n",
    "        Sets default paramaters\n",
    "        \"\"\"\n",
    "        Params = AttributeDict()\n",
    "        #numeric integration parameters\n",
    "        Params.use_kde = 0; # do NOT turn this on until function is fixed to deal with n=[sbins,mbins]. 1 -> use kde-estimated empirical prior;  0 -> use uniform prior\n",
    "        Params.use_parallel_integrals = 1; #compute integrals in parallel?\n",
    "        Params.use_parallel_topology = 0;\n",
    "        Params.use_parallel_genes = 0;\n",
    "        Params.use_parallel = any([Params.use_parallel_integrals, Params.use_parallel_topology, Params.use_parallel_genes]);\n",
    "        Params.parallel_pool_size = 16; #number of processors for parallelization\n",
    "\n",
    "        Params.dist = 'N'; #distribution for gene expression. Default is 'N' for normal. Can also use 'P' for ZIP.\n",
    "        Params.mumin = 0; # min and max for mean prior in normal distribution, or for lambda prior in ZIP. \n",
    "        Params.mumax = 7;\n",
    "        Params.sigmin = 0; # min and max for std prior in normal distribution, or for sigma prior in ZIP.\n",
    "        Params.sigmax = 3;\n",
    "        Params.mbins = 2**8; #number of bins for numeric integration over distribution parameters\n",
    "        Params.sbins = 2**8;\n",
    "\n",
    "        Params.cutoff = np.log2(10); # expression threshold for numeric integration\n",
    "\n",
    "        Params.verbose = 2; # 0 = default (no) reporting\n",
    "                            # 1 = extra results\n",
    "                            # 2 = debugging\n",
    "        Params.save_integrals = 1; # save integrals for later dot-plotting\n",
    "        Params.save_gene_probs = 1; # save gene probabilities for later\n",
    "        Params.save_best_dists = 1; # save info about 'best' mu and sigma per gene/cluster\n",
    "\n",
    "        Params.psla = [1./2, 1./6, 1./6, 1./6]; #vector of prior probabilities for non-transition genes\n",
    "        Params.topology_prior = [1./4, 1./4, 1./4, 1./4]; #topology prior [p(A) p(B) p(C) p(0)]\n",
    "        Params.plikely_thresh = 0.3; # threshold for probability of topology given data\n",
    "        Params.filter_min = 0; #ignore genes with values under threshold?\n",
    "        Params.log_asym_min = np.log2(2); #threshold for transition gene expression\n",
    "        Params.log_sym_min = np.log2(2); #threshold for marker gene expression\n",
    "        Params.oddsrange = np.logspace(-4,2,50); #range to vary prior odds p(beta_i = 1)/p(beta_i = 0)\n",
    "\n",
    "        #parameters for gene probabilities\n",
    "        Params.N_thresh_sym = 1000; # max number of genes in gene classes\n",
    "        Params.N_thresh_asym = 1000; \n",
    "        Params.p_thresh_asym = 0.8; # probability thresholds for defining gene classes\n",
    "        Params.p_thresh_sym = 0.8; \n",
    "        Params.odds0 = 0.05; # prior transition \n",
    "        #do checks\n",
    "        if Params.dist == 'P':\n",
    "            if Params.sigmax > 1 or Params.sigmax < 0:\n",
    "                raise ValueError('Params.sigmax for Zero Inflated Poisson distribution must be in the range [0,1]')\n",
    "        self.Params=Params\n",
    "        return Params\n",
    "    \n",
    "    def calculate_integrals(self,log2tfdata, idxs, iunique, Params):\n",
    "        \"\"\"Given:\n",
    "        #log2tfdata# expresion matrix of shape m x n\n",
    "        #idxs# a vector with a subset of values from iunique ...\n",
    "        #iunique# a \n",
    "        This returns:\n",
    "        [Integrals, best_mu, best_sigma,combinations]\n",
    "        The integrals used in this paper, the best_mu and best_sigma given data and the combinations matrix used.\n",
    "        \"\"\"\n",
    "        #cast as numpy arrays for easy computation\n",
    "        log2tfdata = np.array(log2tfdata)\n",
    "        idxs = np.array(idxs)\n",
    "        iunique = np.array(iunique)\n",
    "        #internalize paramaters\n",
    "        nbins = [Params.sbins, Params.mbins]\n",
    "        g_dist = Params.dist\n",
    "        mumin = Params.mumin\n",
    "        mumax = Params.mumax\n",
    "        sigmin = Params.sigmin \n",
    "        sigmax = Params.sigmax\n",
    "        cutoff = Params.cutoff\n",
    "\n",
    "        use_parallel_integrals = Params.use_parallel_integrals\n",
    "        #compute statistics\n",
    "        [loggenemeans, loggenestds] = self.calc_log_mean_std(log2tfdata, iunique, g_dist)\n",
    "\n",
    "        #uniform prior over means and standard deviations #kde not implemented\n",
    "        dm = (mumax-mumin)/nbins[1]\n",
    "        ds = (sigmax-sigmin)/nbins[0] # will be zero is sigmax==sigmin\n",
    "        if sigmax==sigmin: ds=1\n",
    "        M,S=np.meshgrid(np.arange(mumin,mumax,dm),np.arange(sigmin,sigmax,ds))\n",
    "        density = np.ones(M.shape)\n",
    "        P = density/(dm*ds*np.sum(density))\n",
    "\n",
    "\n",
    "        ################ Compute integrals\n",
    "\n",
    "        #initialize paramaters\n",
    "        ngenes = log2tfdata.shape[0]\n",
    "        ncells = len(idxs)\n",
    "        from itertools import combinations as combnk\n",
    "        combinations = np.array(list(combnk(range(ncells),3)))\n",
    "        ncombinations = len(combinations)\n",
    "        lM,lS = M.shape\n",
    "        Mu = M[0,1:]###Mu = M(1,2:end); what? stupid?\n",
    "        firstcut = np.sum(Mu<=cutoff)###\n",
    "        ## Compute paramters over integration space required for likelihood of data given hyperprior\n",
    "        if g_dist=='N':\n",
    "            logS = np.log(2*np.pi*S**2);\n",
    "        elif g_dist=='P':\n",
    "            logS1 = np.log(1-S);\n",
    "            ExpM = np.exp(-M); #exp(-mu). sbins by mbins matrix.\n",
    "            logSM = np.log(S+(1-S)*ExpM); #log[sigma+(1-sigma)exp(-mu)]. sbins by mbins matrix.\n",
    "            logS = [logS1,logSM];\n",
    "        else:\n",
    "            raise ValueError('Invalid distribution parameter. Acceptable input: \"N\" or \"P\"')\n",
    "\n",
    "        #initialize to 0 target variables\n",
    "\n",
    "        IA = np.zeros([ngenes, ncells]);#integrals over one cell type (to use in integrals for Equation 8)\n",
    "        IAB = np.zeros([ncells,ncells,ngenes]);#integrals over 2 cell types (to use in integrals for Equation 8)\n",
    "        IABCsame = np.zeros([ngenes, ncombinations]);#integrals over 3 cell types (Equation 9) muA=muB=muC\n",
    "        IA_BC_Amax = np.zeros([ngenes, ncombinations]);#integrals with muA > muB=muC (Equation 8)\n",
    "        IA_BC_Bmax = np.zeros([ngenes, ncombinations]);#integrals with muB > muA=muC (Equation 8)\n",
    "        IA_BC_Cmax = np.zeros([ngenes, ncombinations]);#integrals with muC > muB=muA (Equation 8)\n",
    "        IABC_Amin = np.zeros([ngenes, ncombinations]);#integrals with muA < muB and muA < muC (Equation 5)\n",
    "        IABC_Bmin = np.zeros([ngenes, ncombinations]);#integrals with muB minimum (Equation 5)\n",
    "        IABC_Cmin = np.zeros([ngenes, ncombinations]);#integrals with muC minimum (Equation 5)\n",
    "\n",
    "        best_mu = np.zeros([ngenes, ncells]);\n",
    "        best_sigma = np.zeros([ngenes, ncells]);\n",
    "\n",
    "        #itterate through each cell type in idx\n",
    "        for i in range(ngenes):\n",
    "            [tempIA, tempIAB, tempIABCsame, \n",
    "             tempIABC_Amin, tempIABC_Bmin, tempIABC_Cmin, \n",
    "             tempIA_BC_Amax, tempIA_BC_Bmax, tempIA_BC_Cmax, \n",
    "             best_mu_gene, best_sigma_gene] = self.calculate_integrals_one_gene(g_dist, i, ncells, \n",
    "                                                                           combinations, log2tfdata, iunique, idxs, \n",
    "                                                                           P, M, S, logS, lM, lS, firstcut, dm, ds)\n",
    "            IA[i,:] = tempIA\n",
    "            IAB[:,:,i] = np.squeeze(tempIAB)\n",
    "            IABCsame[i,:] = tempIABCsame\n",
    "            IABC_Amin[i,:] = tempIABC_Amin\n",
    "            IABC_Bmin[i,:] = tempIABC_Bmin\n",
    "            IABC_Cmin[i,:] = tempIABC_Cmin\n",
    "            IA_BC_Amax[i,:] = tempIA_BC_Amax\n",
    "            IA_BC_Bmax[i,:] = tempIA_BC_Bmax\n",
    "            IA_BC_Cmax[i,:] = tempIA_BC_Cmax\n",
    "            best_mu[i,:] = best_mu_gene\n",
    "            best_sigma[i,:] = best_sigma_gene\n",
    "            if i%100==0:\n",
    "                print(str(i)+' genes integrated.')\n",
    "        #Save to Integrals object\n",
    "        Integrals = AttributeDict()\n",
    "        Integrals.IA = IA;#not used\n",
    "        Integrals.IAB = IAB;#not used\n",
    "        Integrals.IABCsame = IABCsame;\n",
    "        Integrals.IABC_Amin = IABC_Amin;\n",
    "        Integrals.IABC_Bmin = IABC_Bmin;\n",
    "        Integrals.IABC_Cmin = IABC_Cmin;\n",
    "        Integrals.IA_BC_Amax = IA_BC_Amax;\n",
    "        Integrals.IA_BC_Bmax = IA_BC_Bmax;\n",
    "        Integrals.IA_BC_Cmax = IA_BC_Cmax;\n",
    "        return [Integrals, best_mu, best_sigma,combinations]\n",
    "\n",
    "    def logDa(self,g_dist,M,S,xk1,logS=None):\n",
    "        \"\"\"\n",
    "        ##This function returns a sbins by mbins matrix of logDa(gi|mu,sigma) for gene(i) in cluster j.\n",
    "        #input arguments:\n",
    "        # g_dist: Assumption for gene expression.'N' for normal, or 'P' for ZIP (zero inflated poisson).\n",
    "        # M,S: meshgrid components (each is a sbin by mbin matrix) created with the prior mu and sigma values.\n",
    "        # xk1: gene(i) expression levels in all cells in cluster j\n",
    "        # logS: Terms independent of gi in logDa: Equals log[2pi(sigma)^2] for\n",
    "        # 'N', and {log(1-sigma), log[sigma+(1-sigma)exp(-mu)]} for 'P'.\n",
    "        # lM, lS: number of prior mu and sigma values. Should be roughly mbins, sbins\n",
    "        Don't understand why are you passing these. They should be exactly mbins and sbins\n",
    "        \"\"\"\n",
    "        xk1 = np.array(xk1)\n",
    "        M = np.array(M)\n",
    "        S = np.array(S)\n",
    "        if logS is None:\n",
    "            if g_dist=='N':\n",
    "                logS = np.log(2*np.pi*S**2);\n",
    "            elif g_dist=='P':\n",
    "                logS1 = np.log(1-S);\n",
    "                ExpM = np.exp(-M); #exp(-mu). sbins by mbins matrix.\n",
    "                logSM = np.log(S+(1-S)*ExpM); #log[sigma+(1-sigma)exp(-mu)]. sbins by mbins matrix.\n",
    "                logS = [logS1,logSM];\n",
    "\n",
    "        N1 = len(xk1); #number of cells in cluster j\n",
    "        if g_dist == 'N':\n",
    "            F1 = -N1*logS/2; #-(N/2)log[2pi(sigma)^2], sbins by mbins matrix, same value for each row.\n",
    "            MM,XK = np.meshgrid(M[0,:],xk1); #MM, XK are Ncells by mbins matrices. MM contains prior mu values column-wise. XK contains gene(i) levels row-wise.\n",
    "            F1a = np.tile(np.sum(-(MM-XK)**2,axis=0),[S.shape[0],1]); #sum[-(gi-mu)^2]. sbins by mbins matrix. Identical rows.\n",
    "            F1 = F1 + F1a/(2*S*S); #logDa = -(N/2)log[2pi(sigma)^2]+sum[-(gi-mu)^2]/(2sigma^2). sbins by mbins.\n",
    "            #F1 = F1a/(2*S*S); #logDa = -(N/2)log[2pi(sigma)^2]+sum[-(gi-mu)^2]/(2sigma^2). sbins by mbins.\n",
    "        elif g_dist == 'P':\n",
    "            logS1 = logS[0]; #log(1-sigma). sbins by mbins matrix. Identical rows.\n",
    "            logSM = logS[1]; #log[sigma+(1-sigma)exp(-mu)]. sbins by mbins matrix.\n",
    "            xk1p = xk1[xk1>0]; #gene(i) levels in all cells expression gene(i) in cluster j. Vector.\n",
    "            Np = len(xk1p); #number of cells with positive gene(i) expression.\n",
    "            N0 = N1-Np; #number of cells with zero gene(i) level.\n",
    "            sum_g = np.sum(xk1p); #single value\n",
    "            sum_gamma = np.sum(gammaln(xk1p+1)); #for gi>0, sum{log[gamma(gi+1)]}. Single value.\n",
    "            sum_Mg = np.log(M[0,:])*sum_g; #vector of length mbins. log(mu)*Sum(gi) for gi>0.\n",
    "            F1 = Np*logS1+N0*logSM-Np*M; #Np*log(1-sigma)+N0*log[sigma+(1-sigma)exp(-mu)]-Np*mu. sbins by mbins matrix.\n",
    "            F1 = F1 + np.expand_dims(sum_Mg, 0); #F1 as above + log[mu*Sum(gi) for gi>0]. sbins by mbins matrix.\n",
    "            F1 = F1 - sum_gamma; #logDa = Np*log(1-sigma)+N0*log[sigma+(1-sigma)exp(-mu)]-Np*mu+log[mu*Sum(gi)]-sum{log[gamma(gi+1)]}, for gi>0.\n",
    "        return F1"
   ]
  },
  {
   "cell_type": "code",
   "execution_count": 130,
   "metadata": {
    "collapsed": false
   },
   "outputs": [
    {
     "data": {
      "text/plain": [
       "array([  2.52902670e-310,   0.00000000e+000,   0.00000000e+000,\n",
       "         2.32348226e-254,   1.46691091e-063])"
      ]
     },
     "execution_count": 130,
     "metadata": {},
     "output_type": "execute_result"
    }
   ],
   "source": [
    "obj.pgi_sla_1"
   ]
  },
  {
   "cell_type": "code",
   "execution_count": 131,
   "metadata": {
    "collapsed": false
   },
   "outputs": [
    {
     "data": {
      "text/plain": [
       "array([[  3.78500187e-059,   7.61038550e-313,   7.94813734e-313],\n",
       "       [  0.00000000e+000,   0.00000000e+000,   0.00000000e+000],\n",
       "       [  2.22042938e-204,   0.00000000e+000,   0.00000000e+000],\n",
       "       [  5.07970349e-169,   7.77644007e-257,   7.11181484e-241],\n",
       "       [  1.07492214e-065,   2.71322160e-065,   7.58811506e-065]])"
      ]
     },
     "execution_count": 131,
     "metadata": {},
     "output_type": "execute_result"
    }
   ],
   "source": [
    "obj.pgi_sym"
   ]
  },
  {
   "cell_type": "code",
   "execution_count": 132,
   "metadata": {
    "collapsed": false
   },
   "outputs": [
    {
     "data": {
      "text/plain": [
       "array([[  7.54312006e+001,   5.93475102e-001,   1.86634887e-260,\n",
       "          1.72503674e-001,   2.34021224e-001]])"
      ]
     },
     "execution_count": 132,
     "metadata": {},
     "output_type": "execute_result"
    }
   ],
   "source": [
    "obj.pT_g_sum"
   ]
  },
  {
   "cell_type": "code",
   "execution_count": 150,
   "metadata": {
    "collapsed": false
   },
   "outputs": [
    {
     "data": {
      "text/plain": [
       "array([[  1.15376371e-058,   3.15940227e-060,   1.12216968e-058,\n",
       "          7.69175803e-059],\n",
       "       [  2.68550443e-066,   2.68550443e-066,   0.00000000e+000,\n",
       "          1.79033629e-066],\n",
       "       [  1.43930039e-063,   2.77832525e-187,   1.43930039e-063,\n",
       "          9.59533596e-064],\n",
       "       [  6.48567415e-061,   1.12796525e-191,   6.48567415e-061,\n",
       "          4.32378277e-061],\n",
       "       [  9.64407064e-064,   2.65211845e-062,   2.60318460e-062,\n",
       "          1.78391458e-062]])"
      ]
     },
     "execution_count": 150,
     "metadata": {},
     "output_type": "execute_result"
    }
   ],
   "source": [
    "obj.pgi_mas_T"
   ]
  },
  {
   "cell_type": "code",
   "execution_count": 151,
   "metadata": {
    "collapsed": false
   },
   "outputs": [
    {
     "data": {
      "text/plain": [
       "array([[  1.71629984e-02],\n",
       "       [  0.00000000e+00],\n",
       "       [  1.00000000e+00],\n",
       "       [  1.00000000e+00],\n",
       "       [  3.26773969e-04]])"
      ]
     },
     "execution_count": 151,
     "metadata": {},
     "output_type": "execute_result"
    }
   ],
   "source": [
    "obj.transition_probs"
   ]
  },
  {
   "cell_type": "code",
   "execution_count": 159,
   "metadata": {
    "collapsed": false
   },
   "outputs": [
    {
     "data": {
      "text/plain": [
       "array([0])"
      ]
     },
     "execution_count": 159,
     "metadata": {},
     "output_type": "execute_result"
    }
   ],
   "source": [
    "obj.tlikely"
   ]
  },
  {
   "cell_type": "code",
   "execution_count": 160,
   "metadata": {
    "collapsed": false
   },
   "outputs": [
    {
     "data": {
      "text/plain": [
       "array([ 0.77136427])"
      ]
     },
     "execution_count": 160,
     "metadata": {},
     "output_type": "execute_result"
    }
   ],
   "source": [
    "obj.plikely"
   ]
  },
  {
   "cell_type": "code",
   "execution_count": 135,
   "metadata": {
    "collapsed": false
   },
   "outputs": [
    {
     "data": {
      "text/plain": [
       "array([  6.30833645e-060,   0.00000000e+000,   3.70071564e-205,\n",
       "         8.46617249e-170,   7.52415885e-064])"
      ]
     },
     "execution_count": 135,
     "metadata": {},
     "output_type": "execute_result"
    }
   ],
   "source": [
    "obj.pgi_sla"
   ]
  },
  {
   "cell_type": "code",
   "execution_count": 136,
   "metadata": {
    "collapsed": false
   },
   "outputs": [
    {
     "data": {
      "text/plain": [
       "array([  5.37390700e-61,   9.01459284e-67,   2.71876095e-63,\n",
       "         1.48476293e-55,   2.53147375e-67])"
      ]
     },
     "execution_count": 136,
     "metadata": {},
     "output_type": "execute_result"
    }
   ],
   "source": [
    "obj.pgi_mas_T[:,0]"
   ]
  },
  {
   "cell_type": "code",
   "execution_count": 165,
   "metadata": {
    "collapsed": false
   },
   "outputs": [
    {
     "data": {
      "text/plain": [
       "array([ inf,  nan,   1.])"
      ]
     },
     "execution_count": 165,
     "metadata": {},
     "output_type": "execute_result"
    }
   ],
   "source": [
    "A=np.array(np.array([1,0,2])/np.array([0,0,2]))\n",
    "A"
   ]
  },
  {
   "cell_type": "code",
   "execution_count": 167,
   "metadata": {
    "collapsed": false
   },
   "outputs": [
    {
     "data": {
      "text/plain": [
       "nan"
      ]
     },
     "execution_count": 167,
     "metadata": {},
     "output_type": "execute_result"
    }
   ],
   "source": [
    "A[1]/(A[1]+1)"
   ]
  },
  {
   "cell_type": "code",
   "execution_count": 158,
   "metadata": {
    "collapsed": false
   },
   "outputs": [
    {
     "name": "stdout",
     "output_type": "stream",
     "text": [
      "Sibilant started.\n",
      "Beginning integration.\n",
      "0 genes integrated.\n",
      "Starting trajectories.\n",
      "Starting gene selection.\n"
     ]
    },
    {
     "data": {
      "image/png": "[encoded data removed]",
      "text/plain": [
       "<matplotlib.figure.Figure at 0x118399a58>"
      ]
     },
     "metadata": {},
     "output_type": "display_data"
    },
    {
     "data": {
      "image/png": "[encoded data removed]",
      "text/plain": [
       "<matplotlib.figure.Figure at 0x10cda5cc0>"
      ]
     },
     "metadata": {},
     "output_type": "display_data"
    },
    {
     "data": {
      "image/png": "[encoded data removed]",
      "text/plain": [
       "<matplotlib.figure.Figure at 0x118254940>"
      ]
     },
     "metadata": {},
     "output_type": "display_data"
    },
    {
     "data": {
      "image/png": "[encoded data removed]",
      "text/plain": [
       "<matplotlib.figure.Figure at 0x118309978>"
      ]
     },
     "metadata": {},
     "output_type": "display_data"
    }
   ],
   "source": [
    "#inputs:\n",
    "#tfdata --> log-transformed data. rows = genes. columns = replicates (several per cell type). \n",
    "#idxs --> which cell types are we interested in out of all of the cell types in tfdata?\n",
    "#labs --> cell type names\n",
    "#iunique --> what is the cell type identity of each column of tfdata?\n",
    "#iunique has same length as the # of columns in tfdata, and the max value\n",
    "#of iunique is the number of cell types.\n",
    "\n",
    "\n",
    "obj = topologies_and_genes()\n",
    "\n",
    "\n",
    "#simulate some data:\n",
    "#3 cell types A,B,C with 5 genes g1,g2,...,g4\n",
    "# g1,g2,g3 have clear minimum in B and similar values in A,C and g4 has a clear maximum in A and similar in B,C \n",
    "#for T=𝒜 and βi=1, our model is that the distribution of the expression levels of gA,B,Ci\n",
    "# in the three cell types A, B and C has the smallest mean value in either B or C but not in A\n",
    "\n",
    "nA = 10 #no. cells of type A\n",
    "nB = 20 #no. cells of type B\n",
    "nC = 13 #no. cells of type C\n",
    "idxs = np.arange(3,dtype=int)\n",
    "labs = np.array(['A','B','C'])\n",
    "iunique = np.concatenate([np.ones(nA)*idxs[0],np.ones(nB)*idxs[1],np.ones(nC)*idxs[2]])\n",
    "iunique = np.array(iunique,dtype=int)\n",
    "\n",
    "g1_A = obj.simulate_ZIP(mu_true=120, psi_true=0.8, nx=1, ny=nA)\n",
    "g1_B = obj.simulate_ZIP(mu_true=20, psi_true=0.7, nx=1, ny=nB)\n",
    "g1_C = obj.simulate_ZIP(mu_true=20, psi_true=0.75, nx=1, ny=nC)\n",
    "#min in C\n",
    "\n",
    "g2_A = obj.simulate_ZIP(mu_true=140, psi_true=0.8, nx=1, ny=nA)\n",
    "g2_B = obj.simulate_ZIP(mu_true=140, psi_true=0.7, nx=1, ny=nB)\n",
    "g2_C = obj.simulate_ZIP(mu_true=10, psi_true=0.75, nx=1, ny=nC)\n",
    "#min in C\n",
    "\n",
    "g3_A = obj.simulate_ZIP(mu_true=190, psi_true=0.8, nx=1, ny=nA)\n",
    "g3_B = obj.simulate_ZIP(mu_true=10, psi_true=0.7, nx=1, ny=nB)\n",
    "g3_C = obj.simulate_ZIP(mu_true=70, psi_true=0.75, nx=1, ny=nC)\n",
    "#min in B\n",
    "\n",
    "g4_A = obj.simulate_ZIP(mu_true=100, psi_true=0.8, nx=1, ny=nA)\n",
    "g4_B = obj.simulate_ZIP(mu_true=10, psi_true=0.7, nx=1, ny=nB)\n",
    "g4_C = obj.simulate_ZIP(mu_true=70, psi_true=0.75, nx=1, ny=nC)\n",
    "#min in B\n",
    "\n",
    "g5_A = obj.simulate_ZIP(mu_true=45, psi_true=0.8, nx=1, ny=nA)\n",
    "g5_B = obj.simulate_ZIP(mu_true=50, psi_true=0.7, nx=1, ny=nB)\n",
    "g5_C = obj.simulate_ZIP(mu_true=50, psi_true=0.75, nx=1, ny=nC)\n",
    "#min in A\n",
    "\n",
    "#plt.hist(np.ravel(g1_A),alpha=0.75)\n",
    "#plt.hist(np.ravel(g1_B),alpha=0.75)\n",
    "#plt.hist(np.ravel(g1_C),alpha=0.75)\n",
    "#plt.show()\n",
    "\n",
    "tfdata= np.vstack([np.column_stack([g1_A,g1_B,g1_C]),\n",
    "                   np.column_stack([g2_A,g2_B,g2_C]),\n",
    "                   np.column_stack([g3_A,g3_B,g3_C]),\n",
    "                   np.column_stack([g4_A,g4_B,g4_C]),\n",
    "                   np.column_stack([g5_A,g5_B,g5_C])])\n",
    "\n",
    "\n",
    "obj.set_data(tfdata, idxs, labs, iunique)\n",
    "\n",
    "#set the paramters\n",
    "obj.get_parameters();\n",
    "#modify the Params to have the right range and distribution type\n",
    "obj.Params.cutoff = 0.#no cutoff\n",
    "obj.Params.mumax = 250.\n",
    "obj.Params.mumin = 0.\n",
    "obj.Params.sigmin = 0.\n",
    "obj.Params.sigmax = 1.\n",
    "obj.Params.dist = 'P'\n",
    "\n",
    "obj.start_Sibilant()\n",
    "\n",
    "#plot last topology prob as a function of prior odds\n",
    "plt.figure(figsize=(10,7))\n",
    "for x_line in np.where(np.diff(obj.iunique))[0]:\n",
    "    plt.plot([x_line+0.5,x_line+0.5],[-1,obj.tfdata.shape[0]+1],'w')\n",
    "plt.imshow(obj.tfdata,interpolation='nearest')\n",
    "plt.xticks([np.mean(np.where(obj.iunique==idx_)[0]) for idx_ in obj.idxs],obj.labs)\n",
    "#plt.yticks([0,1,2,3],['A','B','C','null'])\n",
    "plt.xlabel('Cells')\n",
    "plt.ylabel('Genes')\n",
    "plt.colorbar(orientation='horizontal')\n",
    "plt.title('Expresion matrix')\n",
    "plt.show()\n",
    "\n",
    "#plot last topology prob as a function of prior odds\n",
    "plt.figure(figsize=(10,7))\n",
    "plt.title('Last investigated topology')\n",
    "plt.plot([obj.report_ind],[obj.tlikely_ind],'wo')\n",
    "plt.imshow(np.log(obj.pT_g).T,interpolation='nearest')\n",
    "plt.yticks([0,1,2,3],['A','B','C','null'])\n",
    "\n",
    "plt.xlabel('prior odds')\n",
    "plt.ylabel('Topology')\n",
    "plt.colorbar(orientation='horizontal')\n",
    "plt.show()\n",
    "\n",
    "#plot transition probabilities\n",
    "plt.figure()\n",
    "plt.imshow(np.log(obj.transition_probs),interpolation='nearest')\n",
    "plt.xticks([],[])\n",
    "plt.title('Transition probabilities')\n",
    "plt.ylabel('Genes')\n",
    "plt.xlabel('Combinations')\n",
    "plt.colorbar()\n",
    "\n",
    "plt.figure()\n",
    "plt.imshow(np.log(obj.marker_probs[:,:,-1]),interpolation='nearest')\n",
    "plt.xticks([],[])\n",
    "plt.title('Marker probabilities in last topology investigated')\n",
    "plt.xlabel('Cell types')\n",
    "plt.xticks([0,1,2],['A','B','C'])\n",
    "plt.ylabel('Genes')\n",
    "plt.colorbar();\n"
   ]
  },
  {
   "cell_type": "code",
   "execution_count": 164,
   "metadata": {
    "collapsed": false
   },
   "outputs": [
    {
     "name": "stdout",
     "output_type": "stream",
     "text": [
      "Sibilant started.\n",
      "Beginning integration.\n",
      "0 genes integrated.\n",
      "Starting trajectories.\n",
      "Starting gene selection.\n"
     ]
    },
    {
     "data": {
      "image/png": "[encoded data removed]",
      "text/plain": [
       "<matplotlib.figure.Figure at 0x1185e9b70>"
      ]
     },
     "metadata": {},
     "output_type": "display_data"
    },
    {
     "data": {
      "image/png": "[encoded data removed]",
      "text/plain": [
       "<matplotlib.figure.Figure at 0x11826a978>"
      ]
     },
     "metadata": {},
     "output_type": "display_data"
    },
    {
     "data": {
      "image/png": "[encoded data removed]",
      "text/plain": [
       "<matplotlib.figure.Figure at 0x11833df60>"
      ]
     },
     "metadata": {},
     "output_type": "display_data"
    },
    {
     "data": {
      "image/png": "[encoded data removed]",
      "text/plain": [
       "<matplotlib.figure.Figure at 0x1183e4630>"
      ]
     },
     "metadata": {},
     "output_type": "display_data"
    }
   ],
   "source": [
    "#inputs:\n",
    "#tfdata --> log-transformed data. rows = genes. columns = replicates (several per cell type). \n",
    "#idxs --> which cell types are we interested in out of all of the cell types in tfdata?\n",
    "#labs --> cell type names\n",
    "#iunique --> what is the cell type identity of each column of tfdata?\n",
    "#iunique has same length as the # of columns in tfdata, and the max value\n",
    "#of iunique is the number of cell types.\n",
    "\n",
    "\n",
    "obj = topologies_and_genes()\n",
    "\n",
    "\n",
    "#simulate some data:\n",
    "#3 cell types A,B,C with 5 genes g1,g2,...,g4\n",
    "# g1,g2,g3 have clear minimum in B and similar values in A,C and g4 has a clear maximum in A and similar in B,C \n",
    "#for T=𝒜 and βi=1, our model is that the distribution of the expression levels of gA,B,Ci\n",
    "# in the three cell types A, B and C has the smallest mean value in either B or C but not in A\n",
    "\n",
    "nA = 10 #no. cells of type A\n",
    "nB = 20 #no. cells of type B\n",
    "nC = 13 #no. cells of type C\n",
    "idxs = np.arange(3,dtype=int)\n",
    "labs = np.array(['A','B','C'])\n",
    "iunique = np.concatenate([np.ones(nA)*idxs[0],np.ones(nB)*idxs[1],np.ones(nC)*idxs[2]])\n",
    "iunique = np.array(iunique,dtype=int)\n",
    "\n",
    "g1_A = obj.simulate_ZIP(mu_true=12, psi_true=5, nx=1, ny=nA, dist='N')\n",
    "g1_B = obj.simulate_ZIP(mu_true=2, psi_true=2, nx=1, ny=nB, dist='N')\n",
    "g1_C = obj.simulate_ZIP(mu_true=2, psi_true=2.5, nx=1, ny=nC, dist='N')\n",
    "#min in C\n",
    "\n",
    "g2_A = obj.simulate_ZIP(mu_true=14, psi_true=4, nx=1, ny=nA, dist='N')\n",
    "g2_B = obj.simulate_ZIP(mu_true=14, psi_true=5, nx=1, ny=nB, dist='N')\n",
    "g2_C = obj.simulate_ZIP(mu_true=1, psi_true=1.5, nx=1, ny=nC, dist='N')\n",
    "#min in C\n",
    "\n",
    "g3_A = obj.simulate_ZIP(mu_true=19, psi_true=6, nx=1, ny=nA, dist='N')\n",
    "g3_B = obj.simulate_ZIP(mu_true=1, psi_true=1.5, nx=1, ny=nB, dist='N')\n",
    "g3_C = obj.simulate_ZIP(mu_true=7, psi_true=2.5, nx=1, ny=nC, dist='N')\n",
    "#min in B\n",
    "\n",
    "g4_A = obj.simulate_ZIP(mu_true=10, psi_true=3, nx=1, ny=nA, dist='N')\n",
    "g4_B = obj.simulate_ZIP(mu_true=1, psi_true=1.5, nx=1, ny=nB, dist='N')\n",
    "g4_C = obj.simulate_ZIP(mu_true=8, psi_true=2.5, nx=1, ny=nC, dist='N')\n",
    "#min in B\n",
    "\n",
    "g5_A = obj.simulate_ZIP(mu_true=5, psi_true=3, nx=1, ny=nA, dist='N')\n",
    "g5_B = obj.simulate_ZIP(mu_true=6, psi_true=3, nx=1, ny=nB, dist='N')\n",
    "g5_C = obj.simulate_ZIP(mu_true=6, psi_true=2.5, nx=1, ny=nC, dist='N')\n",
    "#min in A\n",
    "\n",
    "#plt.hist(np.ravel(g1_A),alpha=0.75)\n",
    "#plt.hist(np.ravel(g1_B),alpha=0.75)\n",
    "#plt.hist(np.ravel(g1_C),alpha=0.75)\n",
    "#plt.show()\n",
    "\n",
    "tfdata= np.vstack([np.column_stack([g1_A,g1_B,g1_C]),\n",
    "                   np.column_stack([g2_A,g2_B,g2_C]),\n",
    "                   np.column_stack([g3_A,g3_B,g3_C]),\n",
    "                   np.column_stack([g4_A,g4_B,g4_C]),\n",
    "                   np.column_stack([g5_A,g5_B,g5_C])])\n",
    "\n",
    "\n",
    "obj.set_data(tfdata, idxs, labs, iunique)\n",
    "\n",
    "#set the paramters\n",
    "obj.get_parameters();\n",
    "#modify the Params to have the right range and distribution type\n",
    "obj.Params.cutoff = 0.#no cutoff\n",
    "obj.Params.mumax = 250.\n",
    "obj.Params.mumin = 0.\n",
    "obj.Params.sigmin = 0.\n",
    "obj.Params.sigmax = 1.\n",
    "obj.Params.dist = 'N'\n",
    "\n",
    "obj.start_Sibilant()\n",
    "\n",
    "#plot last topology prob as a function of prior odds\n",
    "plt.figure(figsize=(10,7))\n",
    "for x_line in np.where(np.diff(obj.iunique))[0]:\n",
    "    plt.plot([x_line+0.5,x_line+0.5],[-1,obj.tfdata.shape[0]+1],'w')\n",
    "plt.imshow(obj.tfdata,interpolation='nearest')\n",
    "plt.xticks([np.mean(np.where(obj.iunique==idx_)[0]) for idx_ in obj.idxs],obj.labs)\n",
    "#plt.yticks([0,1,2,3],['A','B','C','null'])\n",
    "plt.xlabel('Cells')\n",
    "plt.ylabel('Genes')\n",
    "plt.colorbar(orientation='horizontal')\n",
    "plt.title('Expresion matrix')\n",
    "plt.show()\n",
    "\n",
    "#plot last topology prob as a function of prior odds\n",
    "plt.figure(figsize=(10,7))\n",
    "plt.title('Last investigated topology')\n",
    "plt.plot([obj.report_ind],[obj.tlikely_ind],'wo')\n",
    "plt.imshow(np.log(obj.pT_g).T,interpolation='nearest')\n",
    "plt.yticks([0,1,2,3],['A','B','C','null'])\n",
    "\n",
    "plt.xlabel('prior odds')\n",
    "plt.ylabel('Topology')\n",
    "plt.colorbar(orientation='horizontal')\n",
    "plt.show()\n",
    "\n",
    "#plot transition probabilities\n",
    "plt.figure()\n",
    "plt.imshow(np.log(obj.transition_probs),interpolation='nearest')\n",
    "plt.xticks([],[])\n",
    "plt.title('Transition probabilities')\n",
    "plt.ylabel('Genes')\n",
    "plt.xlabel('Combinations')\n",
    "plt.colorbar()\n",
    "\n",
    "plt.figure()\n",
    "plt.imshow(np.log(obj.marker_probs[:,:,-1]),interpolation='nearest')\n",
    "plt.xticks([],[])\n",
    "plt.title('Marker probabilities in last topology investigated')\n",
    "plt.xlabel('Cell types')\n",
    "plt.xticks([0,1,2],['A','B','C'])\n",
    "plt.ylabel('Genes')\n",
    "plt.colorbar();"
   ]
  },
  {
   "cell_type": "code",
   "execution_count": 125,
   "metadata": {
    "collapsed": false
   },
   "outputs": [
    {
     "name": "stdout",
     "output_type": "stream",
     "text": [
      "[[  9.97858908e-001   3.47521966e-249   2.05328947e-249]\n",
      " [  7.78587465e-244   7.02416413e-231   0.00000000e+000]\n",
      " [  9.21913914e-163   0.00000000e+000   0.00000000e+000]\n",
      " [  3.70822951e-119   5.05640984e-220   6.35108240e-216]\n",
      " [  2.01697104e-003   1.69920555e-002   7.23631613e-003]]\n",
      "[[  1.00000000e+000   3.48267639e-249   2.05769518e-249]\n",
      " [  1.10844145e-013   1.00000000e+000   0.00000000e+000]\n",
      " [  1.00000000e+000   0.00000000e+000   0.00000000e+000]\n",
      " [  1.00000000e+000   1.36356442e-101   1.71269939e-097]\n",
      " [  1.18700827e-001   1.00000000e+000   4.25864670e-001]]\n"
     ]
    }
   ],
   "source": [
    "print(obj.marker_probs[:,:,-1])\n",
    "A=obj.marker_probs[:,:,-1].T/np.max(obj.marker_probs[:,:,-1],axis=1)\n",
    "A=A.T\n",
    "print(A)"
   ]
  },
  {
   "cell_type": "code",
   "execution_count": 119,
   "metadata": {
    "collapsed": false
   },
   "outputs": [
    {
     "data": {
      "text/plain": [
       "array([  9.97858908e-001,   7.02416413e-231,   9.21913914e-163,\n",
       "         3.70822951e-119,   1.69920555e-002])"
      ]
     },
     "execution_count": 119,
     "metadata": {},
     "output_type": "execute_result"
    }
   ],
   "source": [
    "np.max(obj.marker_probs[:,:,-1],axis=1).T"
   ]
  },
  {
   "cell_type": "code",
   "execution_count": 118,
   "metadata": {
    "collapsed": false
   },
   "outputs": [
    {
     "data": {
      "text/plain": [
       "array([[[  9.97858908e-001],\n",
       "        [  3.47521966e-249],\n",
       "        [  2.05328947e-249]],\n",
       "\n",
       "       [[  7.78587465e-244],\n",
       "        [  7.02416413e-231],\n",
       "        [  0.00000000e+000]],\n",
       "\n",
       "       [[  9.21913914e-163],\n",
       "        [  0.00000000e+000],\n",
       "        [  0.00000000e+000]],\n",
       "\n",
       "       [[  3.70822951e-119],\n",
       "        [  5.05640984e-220],\n",
       "        [  6.35108240e-216]],\n",
       "\n",
       "       [[  2.01697104e-003],\n",
       "        [  1.69920555e-002],\n",
       "        [  7.23631613e-003]]])"
      ]
     },
     "execution_count": 118,
     "metadata": {},
     "output_type": "execute_result"
    }
   ],
   "source": [
    "obj.marker_probs[:,:,:]"
   ]
  },
  {
   "cell_type": "code",
   "execution_count": 111,
   "metadata": {
    "collapsed": false
   },
   "outputs": [
    {
     "data": {
      "text/plain": [
       "array([[  3.82378499e-308],\n",
       "       [  2.33598996e-292],\n",
       "       [  0.00000000e+000],\n",
       "       [  1.25888481e-278],\n",
       "       [  2.56516910e-064]])"
      ]
     },
     "execution_count": 111,
     "metadata": {},
     "output_type": "execute_result"
    }
   ],
   "source": [
    "obj.Integrals.IA_BC_Bmax"
   ]
  },
  {
   "cell_type": "code",
   "execution_count": 123,
   "metadata": {
    "collapsed": false
   },
   "outputs": [
    {
     "data": {
      "text/plain": [
       "array([[ 1. ,  2. ],\n",
       "       [ 2. ,  2.5],\n",
       "       [ 3. ,  3. ]])"
      ]
     },
     "execution_count": 123,
     "metadata": {},
     "output_type": "execute_result"
    }
   ],
   "source": [
    "A=np.array([[1,2,3],[4,5,6]])\n",
    "B=np.array([1,2])\n",
    "A.T/B"
   ]
  },
  {
   "cell_type": "code",
   "execution_count": null,
   "metadata": {
    "collapsed": true
   },
   "outputs": [],
   "source": []
  }
 ],
 "metadata": {
  "anaconda-cloud": {},
  "kernelspec": {
   "display_name": "Python 3",
   "language": "python",
   "name": "python3"
  },
  "language_info": {
   "codemirror_mode": {
    "name": "ipython",
    "version": 3
   },
   "file_extension": ".py",
   "mimetype": "text/x-python",
   "name": "python",
   "nbconvert_exporter": "python",
   "pygments_lexer": "ipython3",
   "version": "3.5.2"
  }
 },
 "nbformat": 4,
 "nbformat_minor": 2
}
